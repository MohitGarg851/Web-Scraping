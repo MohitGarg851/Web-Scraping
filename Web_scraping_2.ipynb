{
 "cells": [
  {
   "cell_type": "code",
   "execution_count": 23,
   "metadata": {},
   "outputs": [],
   "source": [
    "# Scraping 2  - Scraping Product information from e-commerce website . . . "
   ]
  },
  {
   "cell_type": "code",
   "execution_count": 1,
   "metadata": {},
   "outputs": [],
   "source": [
    "import requests\n",
    "import bs4\n",
    "import numpy as np\n",
    "import pandas as pd\n",
    "import matplotlib.pyplot as plt\n",
    "import seaborn as sns\n"
   ]
  },
  {
   "cell_type": "code",
   "execution_count": 2,
   "metadata": {},
   "outputs": [
    {
     "data": {
      "text/plain": [
       "requests.models.Response"
      ]
     },
     "execution_count": 2,
     "metadata": {},
     "output_type": "execute_result"
    }
   ],
   "source": [
    "# Note: This website is developed for practicing web scrapping and legal to scrap, not all website allows data scrapping .\n",
    "res = requests.get('https://webscraper.io/test-sites/e-commerce/allinone')\n",
    "type(res)"
   ]
  },
  {
   "cell_type": "code",
   "execution_count": 3,
   "metadata": {},
   "outputs": [],
   "source": [
    "# till now res.text is an object of type requests \n",
    "# using below code we converted it to object of type BeautifulSoup\n",
    "soup = bs4.BeautifulSoup(res.text, \"lxml\") "
   ]
  },
  {
   "cell_type": "code",
   "execution_count": 4,
   "metadata": {},
   "outputs": [
    {
     "data": {
      "text/plain": [
       "bs4.BeautifulSoup"
      ]
     },
     "execution_count": 4,
     "metadata": {},
     "output_type": "execute_result"
    }
   ],
   "source": [
    "type(soup)"
   ]
  },
  {
   "cell_type": "code",
   "execution_count": null,
   "metadata": {},
   "outputs": [],
   "source": [
    "# For scrapping right data, analysing html and css of website is very important, we have to check which class or element\n",
    "# data we have to scrap . . ."
   ]
  },
  {
   "cell_type": "code",
   "execution_count": 6,
   "metadata": {},
   "outputs": [
    {
     "data": {
      "text/plain": [
       "[<div class=\"caption\">\n",
       " <h4 class=\"pull-right price\">$172.99</h4>\n",
       " <h4>\n",
       " <a class=\"title\" href=\"/test-sites/e-commerce/allinone/product/217\" title=\"IdeaTab S5000\">IdeaTab S5000</a>\n",
       " </h4>\n",
       " <p class=\"description\">Silver, 7\" IPS, Quad-Core 1.2Ghz, 16GB, 3G, Android 4.2</p>\n",
       " </div>, <div class=\"caption\">\n",
       " <h4 class=\"pull-right price\">$1187.88</h4>\n",
       " <h4>\n",
       " <a class=\"title\" href=\"/test-sites/e-commerce/allinone/product/310\" title=\"Dell Latitude 5480\">Dell Latitude 54...</a>\n",
       " </h4>\n",
       " <p class=\"description\">Dell Latitude 5480, 14\" FHD, Core i5-7300U, 8GB, 256GB SSD, Windows 10 Pro</p>\n",
       " </div>, <div class=\"caption\">\n",
       " <h4 class=\"pull-right price\">$1294.74</h4>\n",
       " <h4>\n",
       " <a class=\"title\" href=\"/test-sites/e-commerce/allinone/product/325\" title=\"Toshiba Portege Z30-C-16K Grey\">Toshiba Portege...</a>\n",
       " </h4>\n",
       " <p class=\"description\">Toshiba Portege Z30-C-16K Grey, 13.3\" FHD, Core i5-6200U, 8GB, 256GB SSD, 4G, Windows 10 Pro</p>\n",
       " </div>]"
      ]
     },
     "execution_count": 6,
     "metadata": {},
     "output_type": "execute_result"
    }
   ],
   "source": [
    "soup.select('.caption')"
   ]
  },
  {
   "cell_type": "code",
   "execution_count": 10,
   "metadata": {},
   "outputs": [
    {
     "name": "stdout",
     "output_type": "stream",
     "text": [
      "\n",
      "$172.99\n",
      "\n",
      "IdeaTab S5000\n",
      "\n",
      "Silver, 7\" IPS, Quad-Core 1.2Ghz, 16GB, 3G, Android 4.2\n",
      "\n",
      "\n",
      "$1187.88\n",
      "\n",
      "Dell Latitude 54...\n",
      "\n",
      "Dell Latitude 5480, 14\" FHD, Core i5-7300U, 8GB, 256GB SSD, Windows 10 Pro\n",
      "\n",
      "\n",
      "$1294.74\n",
      "\n",
      "Toshiba Portege...\n",
      "\n",
      "Toshiba Portege Z30-C-16K Grey, 13.3\" FHD, Core i5-6200U, 8GB, 256GB SSD, 4G, Windows 10 Pro\n",
      "\n"
     ]
    }
   ],
   "source": [
    "for product in soup.select('.caption'):\n",
    "    print (product.getText())"
   ]
  },
  {
   "cell_type": "code",
   "execution_count": 7,
   "metadata": {},
   "outputs": [],
   "source": [
    "## Saving above data into list after removing all html tags . .\n",
    "title_list = []\n",
    "\n",
    "for i in range(len(soup.find_all(\"a\", \"title\"))):\n",
    "    title_list.append(soup.find_all(\"a\", \"title\")[i].getText())\n",
    "    \n",
    "price_list = []\n",
    "\n",
    "for i in range(len(soup.find_all(\"h4\", \"pull-right price\"))):\n",
    "    price_list.append(soup.find_all(\"h4\", \"pull-right price\")[i].getText())\n",
    "\n",
    "desc_list = []\n",
    "\n",
    "for i in range(len(soup.find_all(\"p\", \"description\"))):\n",
    "    desc_list.append(soup.find_all(\"p\", \"description\")[i].getText())"
   ]
  },
  {
   "cell_type": "code",
   "execution_count": 8,
   "metadata": {},
   "outputs": [],
   "source": [
    "# forming a dataset ...\n",
    "\n",
    "dataframe = pd.DataFrame({\n",
    "    'Product': title_list,\n",
    "    'Price'  : price_list,\n",
    "    'Description' : desc_list\n",
    "})\n",
    "\n"
   ]
  },
  {
   "cell_type": "code",
   "execution_count": 9,
   "metadata": {},
   "outputs": [
    {
     "data": {
      "text/html": [
       "<div>\n",
       "<style scoped>\n",
       "    .dataframe tbody tr th:only-of-type {\n",
       "        vertical-align: middle;\n",
       "    }\n",
       "\n",
       "    .dataframe tbody tr th {\n",
       "        vertical-align: top;\n",
       "    }\n",
       "\n",
       "    .dataframe thead th {\n",
       "        text-align: right;\n",
       "    }\n",
       "</style>\n",
       "<table border=\"1\" class=\"dataframe\">\n",
       "  <thead>\n",
       "    <tr style=\"text-align: right;\">\n",
       "      <th></th>\n",
       "      <th>Product</th>\n",
       "      <th>Price</th>\n",
       "      <th>Description</th>\n",
       "    </tr>\n",
       "  </thead>\n",
       "  <tbody>\n",
       "    <tr>\n",
       "      <th>0</th>\n",
       "      <td>IdeaTab S5000</td>\n",
       "      <td>$172.99</td>\n",
       "      <td>Silver, 7\" IPS, Quad-Core 1.2Ghz, 16GB, 3G, An...</td>\n",
       "    </tr>\n",
       "    <tr>\n",
       "      <th>1</th>\n",
       "      <td>Dell Latitude 54...</td>\n",
       "      <td>$1187.88</td>\n",
       "      <td>Dell Latitude 5480, 14\" FHD, Core i5-7300U, 8G...</td>\n",
       "    </tr>\n",
       "    <tr>\n",
       "      <th>2</th>\n",
       "      <td>Toshiba Portege...</td>\n",
       "      <td>$1294.74</td>\n",
       "      <td>Toshiba Portege Z30-C-16K Grey, 13.3\" FHD, Cor...</td>\n",
       "    </tr>\n",
       "  </tbody>\n",
       "</table>\n",
       "</div>"
      ],
      "text/plain": [
       "               Product     Price  \\\n",
       "0        IdeaTab S5000   $172.99   \n",
       "1  Dell Latitude 54...  $1187.88   \n",
       "2   Toshiba Portege...  $1294.74   \n",
       "\n",
       "                                         Description  \n",
       "0  Silver, 7\" IPS, Quad-Core 1.2Ghz, 16GB, 3G, An...  \n",
       "1  Dell Latitude 5480, 14\" FHD, Core i5-7300U, 8G...  \n",
       "2  Toshiba Portege Z30-C-16K Grey, 13.3\" FHD, Cor...  "
      ]
     },
     "execution_count": 9,
     "metadata": {},
     "output_type": "execute_result"
    }
   ],
   "source": [
    "dataframe.head()"
   ]
  },
  {
   "cell_type": "code",
   "execution_count": null,
   "metadata": {},
   "outputs": [],
   "source": [
    "# saving the dataframe"
   ]
  },
  {
   "cell_type": "code",
   "execution_count": 11,
   "metadata": {},
   "outputs": [],
   "source": [
    "dataframe.to_csv('Product_data', sep='\\t')\n"
   ]
  },
  {
   "cell_type": "code",
   "execution_count": null,
   "metadata": {},
   "outputs": [],
   "source": []
  },
  {
   "cell_type": "code",
   "execution_count": null,
   "metadata": {},
   "outputs": [],
   "source": []
  }
 ],
 "metadata": {
  "kernelspec": {
   "display_name": "Python 3",
   "language": "python",
   "name": "python3"
  },
  "language_info": {
   "codemirror_mode": {
    "name": "ipython",
    "version": 3
   },
   "file_extension": ".py",
   "mimetype": "text/x-python",
   "name": "python",
   "nbconvert_exporter": "python",
   "pygments_lexer": "ipython3",
   "version": "3.7.3"
  }
 },
 "nbformat": 4,
 "nbformat_minor": 2
}
